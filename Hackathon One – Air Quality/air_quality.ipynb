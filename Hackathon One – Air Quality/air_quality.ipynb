{
 "cells": [
  {
   "cell_type": "code",
   "execution_count": 6,
   "metadata": {},
   "outputs": [],
   "source": [
    "from netCDF4 import Dataset\n",
    "from OSGridConverter import grid2latlong\n",
    "import xarray as xr\n",
    "import math\n",
    "\n",
    "import pandas as pd\n",
    "import dtale\n",
    "\n",
    "import matplotlib.pyplot as plt"
   ]
  },
  {
   "cell_type": "code",
   "execution_count": 7,
   "metadata": {},
   "outputs": [],
   "source": [
    "def getOSGridReference(e, n):\n",
    "    \n",
    "    # Note no I\n",
    "    gridChars = \"ABCDEFGHJKLMNOPQRSTUVWXYZ\"\n",
    "\n",
    "    # get the 100km-grid indices\n",
    "    e100k = math.floor(e/100000)\n",
    "    n100k = math.floor(n/100000)\n",
    "\n",
    "    if e100k6 or n100k12:\n",
    "        return ''\n",
    "\n",
    "    # translate those into numeric equivalents \n",
    "        # of the grid letters\n",
    "    l1 = (19-n100k)-(19-n100k)%5+math.floor((e100k+10)/5)\n",
    "    l2 = (19-n100k)*5%25 + e100k%5\n",
    "\n",
    "    letPair = gridChars[int(l1)] + gridChars[int(l2)]\n",
    "\n",
    "    # strip 100km-grid indices from easting & northing,\n",
    "        # round to 100m\n",
    "    e100m = math.trunc(round(float(e)/100))\n",
    "    egr = str(e100m).rjust(4, \"0\")[1:] \n",
    "    if n >= 1000000:\n",
    "        n = n - 1000000 # Fix Shetland northings\n",
    "    n100m = math.trunc(round(float(n)/100))\n",
    "    ngr = str(n100m).rjust(4, \"0\")[1:]\n",
    "\n",
    "    return letPair + egr + ngr"
   ]
  },
  {
   "cell_type": "code",
   "execution_count": 8,
   "metadata": {},
   "outputs": [],
   "source": [
    "data = Dataset(\"data/air_quality_forecast/aqum_daily_daqi_mean_20200402.nc\")"
   ]
  },
  {
   "cell_type": "code",
   "execution_count": 9,
   "metadata": {},
   "outputs": [],
   "source": [
    "ds = xr.open_dataset('data/air_quality_forecast/aqum_daily_daqi_mean_20200402.nc')\n",
    "df = ds.to_dataframe()"
   ]
  },
  {
   "cell_type": "code",
   "execution_count": 10,
   "metadata": {},
   "outputs": [
    {
     "name": "stdout",
     "output_type": "stream",
     "text": [
      "http://localhost:40000/dtale/main/1\n",
      "It looks like this data may have already been loaded to D-Tale based on shape and column names. Here is URL of the data that seems to match it:\n",
      "\n",
      "None\n",
      "\n",
      "If you still want to load this data please use the following command:\n",
      "\n",
      "dtale.show(df, ignore_duplicate=True)\n"
     ]
    }
   ],
   "source": [
    "dtale.show(df)"
   ]
  },
  {
   "cell_type": "code",
   "execution_count": 12,
   "metadata": {},
   "outputs": [],
   "source": [
    "df.to_csv('export.csv')"
   ]
  },
  {
   "cell_type": "code",
   "execution_count": null,
   "metadata": {},
   "outputs": [],
   "source": []
  }
 ],
 "metadata": {
  "kernelspec": {
   "display_name": "Python 3",
   "language": "python",
   "name": "python3"
  },
  "language_info": {
   "codemirror_mode": {
    "name": "ipython",
    "version": 3
   },
   "file_extension": ".py",
   "mimetype": "text/x-python",
   "name": "python",
   "nbconvert_exporter": "python",
   "pygments_lexer": "ipython3",
   "version": "3.7.7"
  }
 },
 "nbformat": 4,
 "nbformat_minor": 4
}
